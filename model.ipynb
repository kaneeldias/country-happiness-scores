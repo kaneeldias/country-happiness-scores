{
 "cells": [
  {
   "cell_type": "code",
   "id": "initial_id",
   "metadata": {
    "collapsed": true,
    "ExecuteTime": {
     "end_time": "2025-04-11T05:28:58.020760Z",
     "start_time": "2025-04-11T05:28:58.015200Z"
    }
   },
   "source": [
    "import pandas as pd\n",
    "from sklearn.cluster import KMeans\n",
    "from matplotlib import pyplot as plt"
   ],
   "outputs": [],
   "execution_count": 74
  },
  {
   "metadata": {
    "ExecuteTime": {
     "end_time": "2025-04-11T05:28:58.060726Z",
     "start_time": "2025-04-11T05:28:58.053070Z"
    }
   },
   "cell_type": "code",
   "source": "data = pd.read_csv(\"data/2015_processed.csv\")",
   "id": "86371b458373920c",
   "outputs": [],
   "execution_count": 75
  },
  {
   "metadata": {
    "ExecuteTime": {
     "end_time": "2025-04-11T05:28:58.116436Z",
     "start_time": "2025-04-11T05:28:58.084041Z"
    }
   },
   "cell_type": "code",
   "source": "data.describe()",
   "id": "f93cbd0921497e98",
   "outputs": [
    {
     "data": {
      "text/plain": [
       "            score  gdp_per_capita        family  life_expectancy  \\\n",
       "count  158.000000    1.580000e+02  1.580000e+02     1.580000e+02   \n",
       "mean     5.375734   -2.248553e-16 -2.698264e-16    -2.248553e-16   \n",
       "std      1.145010    1.000000e+00  1.000000e+00     1.000000e+00   \n",
       "min      2.839000   -2.098967e+00 -3.638614e+00    -2.550854e+00   \n",
       "25%      4.526000   -7.450117e-01 -4.927999e-01    -7.733370e-01   \n",
       "50%      5.232500    1.590287e-01  1.412203e-01     2.689260e-01   \n",
       "75%      6.243750    7.747313e-01  8.200602e-01     7.315637e-01   \n",
       "max      7.587000    2.094367e+00  1.509658e+00     1.598649e+00   \n",
       "\n",
       "            freedom    generosity    corruption  dystopia_residual  \n",
       "count  1.580000e+02  1.580000e+02  1.580000e+02       1.580000e+02  \n",
       "mean   1.349132e-16  2.698264e-16  8.994212e-17      -1.349132e-16  \n",
       "std    1.000000e+00  1.000000e+00  1.000000e+00       1.000000e+00  \n",
       "min   -2.844296e+00 -1.873115e+00 -1.194843e+00      -3.198261e+00  \n",
       "25%   -6.654926e-01 -6.847145e-01 -6.810303e-01      -6.134349e-01  \n",
       "50%    4.578894e-02 -1.670720e-01 -3.015963e-01      -6.434421e-03  \n",
       "75%    7.994913e-01  5.729726e-01  3.068559e-01       6.565592e-01  \n",
       "max    1.600044e+00  4.409242e+00  3.403102e+00       2.715498e+00  "
      ],
      "text/html": [
       "<div>\n",
       "<style scoped>\n",
       "    .dataframe tbody tr th:only-of-type {\n",
       "        vertical-align: middle;\n",
       "    }\n",
       "\n",
       "    .dataframe tbody tr th {\n",
       "        vertical-align: top;\n",
       "    }\n",
       "\n",
       "    .dataframe thead th {\n",
       "        text-align: right;\n",
       "    }\n",
       "</style>\n",
       "<table border=\"1\" class=\"dataframe\">\n",
       "  <thead>\n",
       "    <tr style=\"text-align: right;\">\n",
       "      <th></th>\n",
       "      <th>score</th>\n",
       "      <th>gdp_per_capita</th>\n",
       "      <th>family</th>\n",
       "      <th>life_expectancy</th>\n",
       "      <th>freedom</th>\n",
       "      <th>generosity</th>\n",
       "      <th>corruption</th>\n",
       "      <th>dystopia_residual</th>\n",
       "    </tr>\n",
       "  </thead>\n",
       "  <tbody>\n",
       "    <tr>\n",
       "      <th>count</th>\n",
       "      <td>158.000000</td>\n",
       "      <td>1.580000e+02</td>\n",
       "      <td>1.580000e+02</td>\n",
       "      <td>1.580000e+02</td>\n",
       "      <td>1.580000e+02</td>\n",
       "      <td>1.580000e+02</td>\n",
       "      <td>1.580000e+02</td>\n",
       "      <td>1.580000e+02</td>\n",
       "    </tr>\n",
       "    <tr>\n",
       "      <th>mean</th>\n",
       "      <td>5.375734</td>\n",
       "      <td>-2.248553e-16</td>\n",
       "      <td>-2.698264e-16</td>\n",
       "      <td>-2.248553e-16</td>\n",
       "      <td>1.349132e-16</td>\n",
       "      <td>2.698264e-16</td>\n",
       "      <td>8.994212e-17</td>\n",
       "      <td>-1.349132e-16</td>\n",
       "    </tr>\n",
       "    <tr>\n",
       "      <th>std</th>\n",
       "      <td>1.145010</td>\n",
       "      <td>1.000000e+00</td>\n",
       "      <td>1.000000e+00</td>\n",
       "      <td>1.000000e+00</td>\n",
       "      <td>1.000000e+00</td>\n",
       "      <td>1.000000e+00</td>\n",
       "      <td>1.000000e+00</td>\n",
       "      <td>1.000000e+00</td>\n",
       "    </tr>\n",
       "    <tr>\n",
       "      <th>min</th>\n",
       "      <td>2.839000</td>\n",
       "      <td>-2.098967e+00</td>\n",
       "      <td>-3.638614e+00</td>\n",
       "      <td>-2.550854e+00</td>\n",
       "      <td>-2.844296e+00</td>\n",
       "      <td>-1.873115e+00</td>\n",
       "      <td>-1.194843e+00</td>\n",
       "      <td>-3.198261e+00</td>\n",
       "    </tr>\n",
       "    <tr>\n",
       "      <th>25%</th>\n",
       "      <td>4.526000</td>\n",
       "      <td>-7.450117e-01</td>\n",
       "      <td>-4.927999e-01</td>\n",
       "      <td>-7.733370e-01</td>\n",
       "      <td>-6.654926e-01</td>\n",
       "      <td>-6.847145e-01</td>\n",
       "      <td>-6.810303e-01</td>\n",
       "      <td>-6.134349e-01</td>\n",
       "    </tr>\n",
       "    <tr>\n",
       "      <th>50%</th>\n",
       "      <td>5.232500</td>\n",
       "      <td>1.590287e-01</td>\n",
       "      <td>1.412203e-01</td>\n",
       "      <td>2.689260e-01</td>\n",
       "      <td>4.578894e-02</td>\n",
       "      <td>-1.670720e-01</td>\n",
       "      <td>-3.015963e-01</td>\n",
       "      <td>-6.434421e-03</td>\n",
       "    </tr>\n",
       "    <tr>\n",
       "      <th>75%</th>\n",
       "      <td>6.243750</td>\n",
       "      <td>7.747313e-01</td>\n",
       "      <td>8.200602e-01</td>\n",
       "      <td>7.315637e-01</td>\n",
       "      <td>7.994913e-01</td>\n",
       "      <td>5.729726e-01</td>\n",
       "      <td>3.068559e-01</td>\n",
       "      <td>6.565592e-01</td>\n",
       "    </tr>\n",
       "    <tr>\n",
       "      <th>max</th>\n",
       "      <td>7.587000</td>\n",
       "      <td>2.094367e+00</td>\n",
       "      <td>1.509658e+00</td>\n",
       "      <td>1.598649e+00</td>\n",
       "      <td>1.600044e+00</td>\n",
       "      <td>4.409242e+00</td>\n",
       "      <td>3.403102e+00</td>\n",
       "      <td>2.715498e+00</td>\n",
       "    </tr>\n",
       "  </tbody>\n",
       "</table>\n",
       "</div>"
      ]
     },
     "execution_count": 76,
     "metadata": {},
     "output_type": "execute_result"
    }
   ],
   "execution_count": 76
  },
  {
   "metadata": {
    "ExecuteTime": {
     "end_time": "2025-04-11T05:28:58.194019Z",
     "start_time": "2025-04-11T05:28:58.185492Z"
    }
   },
   "cell_type": "code",
   "source": "data_features = data.drop(\"country\", axis=1)",
   "id": "a7a3a81060566bdb",
   "outputs": [],
   "execution_count": 77
  },
  {
   "metadata": {},
   "cell_type": "code",
   "outputs": [],
   "execution_count": null,
   "source": [
    "from sklearn.metrics import silhouette_score\n",
    "\n",
    "wcss = []\n",
    "silhouette_scores = []\n",
    "\n",
    "for i in range(2, 20):\n",
    "    kmeans = KMeans(n_clusters = i, init = 'k-means++', max_iter = 3000, random_state=100)\n",
    "    kmeans.fit(data_features)\n",
    "    \n",
    "    wcss.append(kmeans.inertia_)\n",
    "    \n",
    "    silhouette_avg = silhouette_score(data_features, kmeans.labels_, metric='euclidean')\n",
    "    silhouette_scores.append(silhouette_avg)\n",
    "\n",
    "    \n",
    "plt.figure(figsize=(15, 5))\n",
    "\n",
    "plt.subplot(1, 2, 1)\n",
    "plt.plot(range(2, 20), wcss)\n",
    "plt.xlabel('n_clusters')\n",
    "plt.ylabel('WCSS')\n",
    "\n",
    "\n",
    "plt.subplot(1, 2, 2)\n",
    "plt.plot(range(2, 20), silhouette_scores)\n",
    "plt.xlabel('n_clusters')\n",
    "plt.ylabel('Silhouette Score')\n",
    "\n",
    "plt.show()"
   ],
   "id": "8d40ae9539dba302"
  },
  {
   "metadata": {},
   "cell_type": "code",
   "outputs": [],
   "execution_count": null,
   "source": [
    "kmeans = KMeans(n_clusters = 7, init = 'k-means++', max_iter = 3000, random_state=100)\n",
    "kmeans.fit(data_features)"
   ],
   "id": "4f9ca68c7928040e"
  },
  {
   "metadata": {
    "ExecuteTime": {
     "end_time": "2025-04-11T05:28:58.935262Z",
     "start_time": "2025-04-11T05:28:58.928201Z"
    }
   },
   "cell_type": "code",
   "source": [
    "centroids = kmeans.cluster_centers_\n",
    "centroids"
   ],
   "id": "617023db2a270448",
   "outputs": [
    {
     "data": {
      "text/plain": [
       "array([[ 5.08611765,  0.25639044, -0.18419127,  0.3777605 , -0.95916179,\n",
       "        -0.75521939, -0.65610351],\n",
       "       [ 6.285375  ,  0.6591642 ,  0.6954671 ,  0.6224154 ,  0.37556377,\n",
       "        -0.508147  ,  0.04868442],\n",
       "       [ 7.0857619 ,  1.32153215,  0.97080716,  1.08461963,  1.30245322,\n",
       "         1.00099262,  1.71764381],\n",
       "       [ 4.4006    , -1.16556189, -1.07589284, -0.52516003,  0.32359919,\n",
       "         0.90709676,  0.96604373],\n",
       "       [ 5.5769    ,  0.06803863,  0.46867122,  0.26519437,  0.73185365,\n",
       "         0.75733547, -0.51805986],\n",
       "       [ 3.78541667, -1.35300571, -2.27452434, -1.03841881, -0.75726322,\n",
       "         0.27577202, -0.33062975],\n",
       "       [ 4.32882759, -1.07006172, -0.26550339, -1.4872215 , -0.53599875,\n",
       "        -0.22791804, -0.36733053]])"
      ]
     },
     "execution_count": 80,
     "metadata": {},
     "output_type": "execute_result"
    }
   ],
   "execution_count": 80
  },
  {
   "metadata": {},
   "cell_type": "code",
   "outputs": [],
   "execution_count": null,
   "source": [
    "centroids_df = pd.DataFrame(centroids, columns=data_features.columns)\n",
    "centroids_df.to_csv(\"data/centroids_2015.csv\", index=False)"
   ],
   "id": "7bc62c14b8b78718"
  },
  {
   "metadata": {},
   "cell_type": "code",
   "outputs": [],
   "execution_count": null,
   "source": [
    "clusters = data[\"country\"]\n",
    "membership = pd.Series(kmeans.labels_, name=\"membership\")\n",
    "clusters = pd.concat([clusters, membership], axis=1)\n",
    "\n",
    "clusters"
   ],
   "id": "26043a75a7e8afba"
  },
  {
   "metadata": {
    "ExecuteTime": {
     "end_time": "2025-04-11T05:28:59.293607Z",
     "start_time": "2025-04-11T05:28:59.285804Z"
    }
   },
   "cell_type": "code",
   "source": "clusters[\"membership\"].value_counts()",
   "id": "46e8b801a8aa19cc",
   "outputs": [
    {
     "data": {
      "text/plain": [
       "membership\n",
       "0    34\n",
       "1    32\n",
       "6    29\n",
       "2    21\n",
       "4    20\n",
       "5    12\n",
       "3    10\n",
       "Name: count, dtype: int64"
      ]
     },
     "execution_count": 83,
     "metadata": {},
     "output_type": "execute_result"
    }
   ],
   "execution_count": 83
  },
  {
   "metadata": {
    "ExecuteTime": {
     "end_time": "2025-04-11T05:28:59.394142Z",
     "start_time": "2025-04-11T05:28:59.385946Z"
    }
   },
   "cell_type": "code",
   "source": [
    "#save to csv\n",
    "clusters.to_csv(\"data/clusters_2015.csv\", index=False)"
   ],
   "id": "26e8ba6d749c594f",
   "outputs": [],
   "execution_count": 84
  }
 ],
 "metadata": {
  "kernelspec": {
   "display_name": "Python 3",
   "language": "python",
   "name": "python3"
  },
  "language_info": {
   "codemirror_mode": {
    "name": "ipython",
    "version": 2
   },
   "file_extension": ".py",
   "mimetype": "text/x-python",
   "name": "python",
   "nbconvert_exporter": "python",
   "pygments_lexer": "ipython2",
   "version": "2.7.6"
  }
 },
 "nbformat": 4,
 "nbformat_minor": 5
}
